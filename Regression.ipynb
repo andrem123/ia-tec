{
  "nbformat": 4,
  "nbformat_minor": 0,
  "metadata": {
    "colab": {
      "provenance": []
    },
    "kernelspec": {
      "name": "python3",
      "display_name": "Python 3"
    },
    "language_info": {
      "name": "python"
    }
  },
  "cells": [
    {
      "cell_type": "markdown",
      "source": [
        "# Regression metrics"
      ],
      "metadata": {
        "id": "I2evLYdPxxb9"
      }
    },
    {
      "cell_type": "markdown",
      "source": [
        "En este notebook se comparan varios modelos de regresión con distintas métricas de error.\n",
        "\n",
        "Mean Squared Error\n",
        "\n",
        "Mean Absolute Error\n",
        "\n",
        "Root Mean Squared Error\n",
        "\n",
        "Coeficiente de determinación\n",
        "\n",
        "Mean Absolute Percentage Error\n",
        "\n",
        "Root Mean Squared Log Error"
      ],
      "metadata": {
        "id": "UI2_hjfjxz7y"
      }
    },
    {
      "cell_type": "markdown",
      "source": [
        "Setup"
      ],
      "metadata": {
        "id": "Gn5jH4nkx-J_"
      }
    },
    {
      "cell_type": "code",
      "execution_count": null,
      "metadata": {
        "id": "9bJ5qexnxr8D"
      },
      "outputs": [],
      "source": [
        "import numpy as np\n",
        "import matplotlib.pyplot as plt\n",
        "\n",
        "from sklearn.datasets import load_diabetes\n",
        "from sklearn.model_selection import train_test_split\n",
        "from sklearn.linear_model import LinearRegression, Ridge, Lasso\n",
        "from sklearn.tree import DecisionTreeRegressor\n",
        "from sklearn.ensemble import RandomForestRegressor\n",
        "from sklearn.svm import SVR\n",
        "\n",
        "from sklearn.metrics import mean_squared_error, mean_absolute_error\n",
        "\n",
        "diabetes = load_diabetes()\n",
        "X, y = diabetes.data, diabetes.target\n",
        "\n",
        "X_train, X_test, y_train, y_test = train_test_split(\n",
        "    X, y, test_size=0.25, random_state=42\n",
        ")\n",
        "\n",
        "models = [\n",
        "    (\"Linear Regression\", LinearRegression()),\n",
        "    (\"Ridge\", Ridge()),\n",
        "    (\"Lasso\", Lasso()),\n",
        "    (\"Decision Tree\", DecisionTreeRegressor(random_state=42)),\n",
        "    (\"Random Forest\", RandomForestRegressor(random_state=42)),\n",
        "    (\"SVR\", SVR())\n",
        "]\n",
        "\n",
        "preds = {}\n",
        "for name, model in models:\n",
        "    model.fit(X_train, y_train)\n",
        "    preds[name] = model.predict(X_test)\n",
        "\n",
        "print(\"Modelos entrenados y predicciones listas\")"
      ]
    },
    {
      "cell_type": "markdown",
      "source": [
        "Mean Squared Error"
      ],
      "metadata": {
        "id": "Zd-cy_PGyLUQ"
      }
    },
    {
      "cell_type": "code",
      "source": [
        "print(\"=== MSE (más bajo es mejor) ===\")\n",
        "for name, y_pred in preds.items():\n",
        "    mse = mean_squared_error(y_test, y_pred)\n",
        "    print(f\"{name}: {mse:.2f}\")"
      ],
      "metadata": {
        "id": "_42AD2fXyL8B"
      },
      "execution_count": null,
      "outputs": []
    },
    {
      "cell_type": "markdown",
      "source": [
        "Mean Absolute Error"
      ],
      "metadata": {
        "id": "CmSbfbGgyNNT"
      }
    },
    {
      "cell_type": "code",
      "source": [
        "X_bmi = diabetes.data[:, [2]]  # columna 'bmi'\n",
        "Xb_train, Xb_test, yb_train, yb_test = train_test_split(\n",
        "    X_bmi, y, test_size=0.25, random_state=42\n",
        ")\n",
        "\n",
        "line_models = [\n",
        "    (\"Linear Regression\", LinearRegression()),\n",
        "    (\"Ridge\", Ridge()),\n",
        "    (\"Lasso\", Lasso())\n",
        "]\n",
        "\n",
        "print(\"=== MAE (más bajo es mejor) ===\")\n",
        "plt.figure(figsize=(7,5))\n",
        "plt.scatter(Xb_test, yb_test, s=20, c=\"k\", label=\"True\")\n",
        "\n",
        "order = np.argsort(Xb_test[:,0])\n",
        "Xb_sorted = Xb_test[order]\n",
        "\n",
        "for name, model in line_models:\n",
        "    model.fit(Xb_train, yb_train)\n",
        "    yhat = model.predict(Xb_test)\n",
        "    mae = mean_absolute_error(yb_test, yhat)\n",
        "    print(f\"{name}: {mae:.2f}\")\n",
        "    plt.plot(Xb_sorted, model.predict(Xb_sorted), label=name)\n",
        "\n",
        "plt.title(\"Ajuste con una sola variable (BMI) y MAE\")\n",
        "plt.xlabel(\"BMI (característica estandarizada)\")\n",
        "plt.ylabel(\"Progression\")\n",
        "plt.legend()\n",
        "plt.tight_layout()\n",
        "plt.show()"
      ],
      "metadata": {
        "id": "Wsm1hrHVyRg8"
      },
      "execution_count": null,
      "outputs": []
    },
    {
      "cell_type": "markdown",
      "source": [
        "Root Mean Squared Error"
      ],
      "metadata": {
        "id": "qYt4NIepyPDv"
      }
    },
    {
      "cell_type": "code",
      "source": [
        "print(\"=== RMSE (más bajo es mejor) ===\")\n",
        "names, scores = [], []\n",
        "for name, y_pred in preds.items():\n",
        "    rmse = np.sqrt(mean_squared_error(y_test, y_pred))\n",
        "    names.append(name); scores.append(rmse)\n",
        "    print(f\"{name}: {rmse:.2f}\")\n",
        "\n",
        "plt.figure(figsize=(7,4))\n",
        "plt.bar(names, scores)\n",
        "plt.title(\"Comparación de RMSE\")\n",
        "plt.ylabel(\"RMSE\")\n",
        "plt.xticks(rotation=30, ha=\"right\")\n",
        "plt.tight_layout()\n",
        "plt.show()"
      ],
      "metadata": {
        "id": "HYOR0z74yXie"
      },
      "execution_count": null,
      "outputs": []
    },
    {
      "cell_type": "markdown",
      "source": [
        "Coeficiente de determinación"
      ],
      "metadata": {
        "id": "a-IcnDKiyY39"
      }
    },
    {
      "cell_type": "code",
      "source": [
        "from sklearn.metrics import r2_score\n",
        "\n",
        "print(\"=== R2 (más alto es mejor, máximo 1.0) ===\")\n",
        "names, scores = [], []\n",
        "for name, y_pred in preds.items():\n",
        "    r2 = r2_score(y_test, y_pred)\n",
        "    names.append(name); scores.append(r2)\n",
        "    print(f\"{name}: {r2:.2f}\")\n",
        "\n",
        "plt.figure(figsize=(7,4))\n",
        "plt.scatter(names, scores, s=100)\n",
        "plt.axhline(0, color=\"red\", linestyle=\"--\", linewidth=1)\n",
        "plt.title(\"Comparación de R²\")\n",
        "plt.ylabel(\"R²\")\n",
        "plt.ylim(min(scores)-0.1, 1.0)\n",
        "plt.xticks(rotation=30, ha=\"right\")\n",
        "plt.tight_layout()\n",
        "plt.show()"
      ],
      "metadata": {
        "id": "0ShLC2Yxya9X"
      },
      "execution_count": null,
      "outputs": []
    },
    {
      "cell_type": "markdown",
      "source": [
        "Mean Absolute Percentage Error"
      ],
      "metadata": {
        "id": "jBbaR64JyhiA"
      }
    },
    {
      "cell_type": "code",
      "source": [
        "def mean_absolute_percentage_error(y_true, y_pred, eps=1e-9):\n",
        "    y_true = np.asarray(y_true)\n",
        "    y_pred = np.asarray(y_pred)\n",
        "    mask = np.abs(y_true) > eps\n",
        "    return np.mean(np.abs((y_true[mask] - y_pred[mask]) / y_true[mask])) * 100\n",
        "\n",
        "print(\"=== MAPE (%) — más bajo es mejor ===\")\n",
        "names, scores = [], []\n",
        "for name, y_pred in preds.items():\n",
        "    mape = mean_absolute_percentage_error(y_test, y_pred)\n",
        "    names.append(name); scores.append(mape)\n",
        "    print(f\"{name}: {mape:.2f}%\")\n",
        "\n",
        "plt.figure(figsize=(7,4))\n",
        "plt.bar(names, scores, color=\"skyblue\")\n",
        "plt.title(\"Comparación de MAPE (%)\")\n",
        "plt.ylabel(\"MAPE (%)\")\n",
        "plt.xticks(rotation=30, ha=\"right\")\n",
        "plt.tight_layout()\n",
        "plt.show()"
      ],
      "metadata": {
        "id": "Gt2tq7ZnyjTc"
      },
      "execution_count": null,
      "outputs": []
    },
    {
      "cell_type": "markdown",
      "source": [
        "Root Mean Squared Log Error"
      ],
      "metadata": {
        "id": "FVMKXMhMymmE"
      }
    },
    {
      "cell_type": "code",
      "source": [
        "from sklearn.metrics import mean_squared_log_error\n",
        "\n",
        "def rmsle(y_true, y_pred, eps=1e-9):\n",
        "    y_pred = np.clip(y_pred, eps, None)\n",
        "    y_true = np.clip(y_true, eps, None)\n",
        "    return np.sqrt(mean_squared_log_error(y_true, y_pred))\n",
        "\n",
        "print(\"=== RMSLE — más bajo es mejor ===\")\n",
        "names, scores = [], []\n",
        "for name, y_pred in preds.items():\n",
        "    val = rmsle(y_test, y_pred)\n",
        "    names.append(name); scores.append(val)\n",
        "    print(f\"{name}: {val:.4f}\")\n",
        "\n",
        "plt.figure(figsize=(7,4))\n",
        "plt.bar(names, scores, color=\"salmon\")\n",
        "plt.title(\"Comparación de RMSLE\")\n",
        "plt.ylabel(\"RMSLE\")\n",
        "plt.xticks(rotation=30, ha=\"right\")\n",
        "plt.tight_layout()\n",
        "plt.show()"
      ],
      "metadata": {
        "id": "WW3jcj4AynFn"
      },
      "execution_count": null,
      "outputs": []
    }
  ]
}