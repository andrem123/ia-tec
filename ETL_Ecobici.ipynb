{
  "nbformat": 4,
  "nbformat_minor": 0,
  "metadata": {
    "colab": {
      "provenance": []
    },
    "kernelspec": {
      "name": "python3",
      "display_name": "Python 3"
    },
    "language_info": {
      "name": "python"
    }
  },
  "cells": [
    {
      "cell_type": "markdown",
      "source": [
        "# ETL con Datos de Ecobici Buenos Aires"
      ],
      "metadata": {
        "id": "MuEdYRRwuxLw"
      }
    },
    {
      "cell_type": "markdown",
      "source": [
        "En este notebook se realiza un proceso completo de ETL (Extract, Transform, Load) usando los datos abiertos de Ecobici en la Ciudad de Buenos Aires.\n",
        "\n",
        "Extracción: descarga y lectura del dataset.\n",
        "\n",
        "Transformación: limpieza, manejo de nulos, codificación, discretización, normalización y creación de nuevas variables.\n",
        "\n",
        "Carga: exportar los datos procesados a un archivo nuevo."
      ],
      "metadata": {
        "id": "QAl_pLLwuyw-"
      }
    },
    {
      "cell_type": "code",
      "execution_count": null,
      "metadata": {
        "colab": {
          "base_uri": "https://localhost:8080/"
        },
        "id": "9VDPhJ1kukQy",
        "outputId": "03169dac-09c9-444a-9992-4d97e89f6b94"
      },
      "outputs": [
        {
          "output_type": "stream",
          "name": "stdout",
          "text": [
            "Librerías listas.\n"
          ]
        }
      ],
      "source": [
        "import pandas as pd\n",
        "import numpy as np\n",
        "import requests, zipfile, io\n",
        "import seaborn as sns\n",
        "import matplotlib.pyplot as plt\n",
        "from sklearn.preprocessing import MinMaxScaler\n",
        "from geopy.distance import geodesic\n",
        "\n",
        "print(\"Librerías listas.\")"
      ]
    },
    {
      "cell_type": "markdown",
      "source": [
        "Extracción  de datos"
      ],
      "metadata": {
        "id": "8E1kM7Sru8dO"
      }
    },
    {
      "cell_type": "code",
      "source": [
        "print(\"\\n--- EXTRACCIÓN ---\")\n",
        "\n",
        "url = \"https://cdn.buenosaires.gob.ar/datosabiertos/datasets/transporte-y-obras-publicas/bicicletas-publicas/recorridos-realizados-2024.zip\"\n",
        "csv_file_name = \"badata_ecobici_recorridos_realizados_2024.csv\"\n",
        "\n",
        "response = requests.get(url)\n",
        "with zipfile.ZipFile(io.BytesIO(response.content)) as z:\n",
        "    z.extract(csv_file_name)\n",
        "\n",
        "df_raw = pd.read_csv(csv_file_name)\n",
        "print(f\"Datos cargados: {df_raw.shape[0]} registros y {df_raw.shape[1]} columnas.\")\n",
        "\n",
        "df_raw.head()"
      ],
      "metadata": {
        "colab": {
          "base_uri": "https://localhost:8080/"
        },
        "id": "cX-BKE1Pu5Ht",
        "outputId": "49b19942-dc2f-480d-f89d-36a7b14c7efb"
      },
      "execution_count": null,
      "outputs": [
        {
          "output_type": "stream",
          "name": "stdout",
          "text": [
            "\n",
            "--- EXTRACCIÓN ---\n"
          ]
        }
      ]
    },
    {
      "cell_type": "markdown",
      "source": [
        "Transformación de Datos"
      ],
      "metadata": {
        "id": "oATNLEnivFcR"
      }
    },
    {
      "cell_type": "markdown",
      "source": [
        "Limpieza"
      ],
      "metadata": {
        "id": "RLnMWZUgvHUV"
      }
    },
    {
      "cell_type": "code",
      "source": [
        "df = df_raw.copy()\n",
        "\n",
        "df['fecha_origen_recorrido'] = pd.to_datetime(df['fecha_origen_recorrido'])\n",
        "df['fecha_destino_recorrido'] = pd.to_datetime(df['fecha_destino_recorrido'])\n",
        "\n",
        "print(\"\\nNulos por columna:\")\n",
        "print(df.isnull().sum())"
      ],
      "metadata": {
        "id": "kR__-BKjvI5h"
      },
      "execution_count": null,
      "outputs": []
    },
    {
      "cell_type": "markdown",
      "source": [
        "Manejo de nulos"
      ],
      "metadata": {
        "id": "elDmQW_0vMav"
      }
    },
    {
      "cell_type": "code",
      "source": [
        "df['genero'] = df['genero'].fillna(\"OTHER\")\n",
        "\n",
        "# Eliminar filas con fecha destino nula\n",
        "df.dropna(subset=['fecha_destino_recorrido'], inplace=True)\n",
        "\n",
        "print(\"Nulos resueltos.\")"
      ],
      "metadata": {
        "id": "SEVA2IVsvNJ3"
      },
      "execution_count": null,
      "outputs": []
    },
    {
      "cell_type": "markdown",
      "source": [
        "Análisis de variables categóricas"
      ],
      "metadata": {
        "id": "iBlAqSYYvRUy"
      }
    },
    {
      "cell_type": "code",
      "source": [
        "print(\"\\nConteo por género:\")\n",
        "print(df['genero'].value_counts())\n",
        "\n",
        "sns.countplot(data=df, x='genero', palette='viridis')\n",
        "plt.title(\"Distribución de Género\")\n",
        "plt.show()"
      ],
      "metadata": {
        "id": "CG9a53cZvT25"
      },
      "execution_count": null,
      "outputs": []
    },
    {
      "cell_type": "markdown",
      "source": [
        "Codificación (Encoding)"
      ],
      "metadata": {
        "id": "4RTCrSOUvU9B"
      }
    },
    {
      "cell_type": "code",
      "source": [
        "df_encoded = pd.get_dummies(df, columns=['genero','modelo_bicicleta'], prefix=['gen','modelo'])\n",
        "print(\"Variables categóricas codificadas.\")\n",
        "df_encoded.head()"
      ],
      "metadata": {
        "id": "yaikAvdCvWpO"
      },
      "execution_count": null,
      "outputs": []
    },
    {
      "cell_type": "markdown",
      "source": [
        "Discretización"
      ],
      "metadata": {
        "id": "eTLTBmHcvX-E"
      }
    },
    {
      "cell_type": "code",
      "source": [
        "bins = [0,1200,2400,3600, df['duracion_recorrido'].max()]\n",
        "labels = [\"Corto\",\"Medio\",\"Largo\",\"Muy Largo\"]\n",
        "df_encoded['categoria_duracion'] = pd.cut(df['duracion_recorrido'], bins=bins, labels=labels)\n",
        "\n",
        "print(\"Discretización de duración lista.\")\n",
        "df_encoded['categoria_duracion'].value_counts()"
      ],
      "metadata": {
        "id": "3ZFcHJxHvZdx"
      },
      "execution_count": null,
      "outputs": []
    },
    {
      "cell_type": "markdown",
      "source": [
        "Normalización"
      ],
      "metadata": {
        "id": "47P4n_jDvcH4"
      }
    },
    {
      "cell_type": "code",
      "source": [
        "scaler = MinMaxScaler()\n",
        "cols_norm = [\"duracion_recorrido\",\"lat_estacion_origen\",\"long_estacion_origen\",\n",
        "             \"lat_estacion_destino\",\"long_estacion_destino\"]\n",
        "\n",
        "df_encoded[cols_norm] = scaler.fit_transform(df_encoded[cols_norm])\n",
        "print(\"Columnas normalizadas.\")"
      ],
      "metadata": {
        "id": "ttIB1MX3vc0j"
      },
      "execution_count": null,
      "outputs": []
    },
    {
      "cell_type": "markdown",
      "source": [
        "Feature Engineering"
      ],
      "metadata": {
        "id": "ycPNx_FMvgMm"
      }
    },
    {
      "cell_type": "code",
      "source": [
        "# Duración en minutos\n",
        "df_encoded['duracion_min'] = (df['fecha_destino_recorrido'] - df['fecha_origen_recorrido']).dt.total_seconds()/60\n",
        "\n",
        "# Día de la semana y hora de inicio\n",
        "df_encoded['dia_semana'] = df['fecha_origen_recorrido'].dt.dayofweek\n",
        "df_encoded['hora_inicio'] = df['fecha_origen_recorrido'].dt.hour\n",
        "\n",
        "# Tipo de día\n",
        "df_encoded['tipo_dia'] = df_encoded['dia_semana'].apply(lambda x: \"Fin de Semana\" if x>=5 else \"Entre Semana\")\n",
        "\n",
        "# Distancia geodésica (usamos coordenadas originales)\n",
        "df_encoded['distancia_km'] = df.apply(lambda row: geodesic(\n",
        "    (row['lat_estacion_origen'],row['long_estacion_origen']),\n",
        "    (row['lat_estacion_destino'],row['long_estacion_destino'])\n",
        ").km, axis=1)\n",
        "\n",
        "print(\"Nuevas variables creadas.\")\n",
        "df_encoded.head()"
      ],
      "metadata": {
        "id": "vlP5MOfXvhhF"
      },
      "execution_count": null,
      "outputs": []
    },
    {
      "cell_type": "markdown",
      "source": [
        "Carga de Datos"
      ],
      "metadata": {
        "id": "OSPsix98vi8P"
      }
    },
    {
      "cell_type": "code",
      "source": [
        "print(\"\\n--- CARGA ---\")\n",
        "\n",
        "df_encoded.to_csv(\"viajes_ecobici_limpios.csv\", index=False)\n",
        "df_encoded.to_parquet(\"viajes_ecobici_limpios.parquet\", index=False)\n",
        "\n",
        "print(\"Datos guardados en CSV y Parquet.\")"
      ],
      "metadata": {
        "id": "8l-xySX1vlIo"
      },
      "execution_count": null,
      "outputs": []
    }
  ]
}